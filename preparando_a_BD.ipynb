{
 "cells": [
  {
   "cell_type": "code",
   "execution_count": 1,
   "metadata": {},
   "outputs": [],
   "source": [
    "import pandas as pd\n",
    "import locale"
   ]
  },
  {
   "cell_type": "code",
   "execution_count": 2,
   "metadata": {},
   "outputs": [],
   "source": [
    "df_acoes = pd.read_csv('acoes.csv', sep=',')"
   ]
  },
  {
   "cell_type": "code",
   "execution_count": 3,
   "metadata": {},
   "outputs": [],
   "source": [
    "# Excluindo algumas colunas que não fazem sentido para o estudo\n",
    "todas_as_colunas = list(df_acoes.columns)\n",
    "colunas_para_o_estudo = ['Papel', 'Cotação', 'P/L',  'Div.Yield', 'P/EBIT', 'Mrg Ebit', 'ROE']\n",
    "colunas_para_excluir = []\n",
    "\n",
    "for i in todas_as_colunas:\n",
    "    if(i not in colunas_para_o_estudo):\n",
    "        colunas_para_excluir.append(i)\n",
    "\n",
    "df_acoes.drop(colunas_para_excluir, inplace=True, axis=1)"
   ]
  },
  {
   "cell_type": "code",
   "execution_count": 4,
   "metadata": {},
   "outputs": [],
   "source": [
    "# Excluindo os papeis com cotação, P/L, P/EBIT = 0\n",
    "index_para_excluir = []\n",
    "\n",
    "for i in df_acoes.index:\n",
    "\n",
    "    row = df_acoes.iloc[i]\n",
    "    \n",
    "    if(row['Cotação'] == '0' or row['P/L'] == '0' or row['P/EBIT'] == '0'):\n",
    "        index_para_excluir.append(i)\n",
    "\n",
    "df_acoes.drop(index_para_excluir, axis=0, inplace=True)\n",
    "df_acoes.index = range(df_acoes.shape[0])"
   ]
  },
  {
   "cell_type": "code",
   "execution_count": 5,
   "metadata": {},
   "outputs": [],
   "source": [
    "# Removendo o % das colunas Div. Yeld, Marg. Ebit e ROE\n",
    "\n",
    "def remove_porcent(coluna):\n",
    "\n",
    "    nova_lista = []\n",
    "    for i in df_acoes[coluna]:\n",
    "\n",
    "        nova_lista.append(i.rstrip(i[-1]))\n",
    "    \n",
    "    df_acoes[coluna] = nova_lista\n",
    "\n",
    "remove_porcent('Div.Yield')\n",
    "remove_porcent('Mrg Ebit')\n",
    "remove_porcent('ROE')"
   ]
  },
  {
   "cell_type": "code",
   "execution_count": 6,
   "metadata": {},
   "outputs": [],
   "source": [
    "# Convertendo str para float\n",
    "\n",
    "# Mudando o numero br para us\n",
    "locale.setlocale(locale.LC_NUMERIC, \"pt_BR.UTF-8\")\n",
    "\n",
    "# Função que converte str em float\n",
    "\n",
    "def str_para_float(coluna):\n",
    "\n",
    "    numbers = []\n",
    "\n",
    "    for i in df_acoes[coluna]:\n",
    "        numbers.append(locale.atof(i))\n",
    "\n",
    "    df_acoes[coluna] = numbers\n",
    "\n",
    "str_para_float('Cotação')\n",
    "str_para_float('P/L')\n",
    "str_para_float('Div.Yield')\n",
    "str_para_float('P/EBIT')\n",
    "str_para_float('Mrg Ebit')\n",
    "str_para_float('ROE')"
   ]
  },
  {
   "cell_type": "code",
   "execution_count": 7,
   "metadata": {},
   "outputs": [],
   "source": [
    "# Transformando em %\n",
    "\n",
    "df_acoes['Div.Yield'] = round(df_acoes['Div.Yield']/100, 2)\n",
    "df_acoes['Mrg Ebit'] = round(df_acoes['Mrg Ebit']/100, 2)\n",
    "df_acoes['ROE'] = round(df_acoes['ROE']/100, 2)"
   ]
  },
  {
   "cell_type": "code",
   "execution_count": 8,
   "metadata": {},
   "outputs": [],
   "source": [
    "# Desconsiderando as ações que não tem div. yeld\n",
    "\n",
    "new_div_yeld = []\n",
    "for i in df_acoes['Div.Yield']:\n",
    "\n",
    "    if(i == 0):\n",
    "        new_div_yeld.append(None)\n",
    "    else:\n",
    "        new_div_yeld.append(i)\n",
    "\n",
    "df_acoes['Div.Yield'] = new_div_yeld"
   ]
  },
  {
   "cell_type": "code",
   "execution_count": 9,
   "metadata": {},
   "outputs": [],
   "source": [
    "# Desconsiderando os ROE que não fazem sentido\n",
    "\n",
    "new_roe = []\n",
    "for i in df_acoes['ROE']:\n",
    "\n",
    "    if(i > 1000):\n",
    "       new_roe.append(0)\n",
    "    else:\n",
    "        new_roe.append(i)\n",
    "\n",
    "df_acoes['ROE'] = new_roe"
   ]
  },
  {
   "cell_type": "code",
   "execution_count": 10,
   "metadata": {},
   "outputs": [
    {
     "name": "stdout",
     "output_type": "stream",
     "text": [
      "Stored 'df_acoes' (DataFrame)\n"
     ]
    }
   ],
   "source": [
    "%store df_acoes"
   ]
  }
 ],
 "metadata": {
  "kernelspec": {
   "display_name": "Python 3",
   "language": "python",
   "name": "python3"
  },
  "language_info": {
   "codemirror_mode": {
    "name": "ipython",
    "version": 3
   },
   "file_extension": ".py",
   "mimetype": "text/x-python",
   "name": "python",
   "nbconvert_exporter": "python",
   "pygments_lexer": "ipython3",
   "version": "3.11.0"
  },
  "orig_nbformat": 4,
  "vscode": {
   "interpreter": {
    "hash": "b93d7f58fa87cccc1c54a1bb58fde30533742810013d86233f92d0fba50587f2"
   }
  }
 },
 "nbformat": 4,
 "nbformat_minor": 2
}
